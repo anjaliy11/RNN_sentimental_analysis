{
 "cells": [
  {
   "cell_type": "code",
   "execution_count": 1,
   "metadata": {},
   "outputs": [],
   "source": [
    "from tensorflow.keras.preprocessing.text import one_hot"
   ]
  },
  {
   "cell_type": "code",
   "execution_count": 2,
   "metadata": {},
   "outputs": [],
   "source": [
    "### sentences\n",
    "sent=[  'the glass of milk',\n",
    "     'the glass of juice',\n",
    "     'the cup of tea',\n",
    "    'I am a good boy',\n",
    "     'I am a good developer',\n",
    "     'understand the meaning of words',\n",
    "     'your videos are good',]"
   ]
  },
  {
   "cell_type": "code",
   "execution_count": 3,
   "metadata": {},
   "outputs": [
    {
     "data": {
      "text/plain": [
       "['the glass of milk',\n",
       " 'the glass of juice',\n",
       " 'the cup of tea',\n",
       " 'I am a good boy',\n",
       " 'I am a good developer',\n",
       " 'understand the meaning of words',\n",
       " 'your videos are good']"
      ]
     },
     "execution_count": 3,
     "metadata": {},
     "output_type": "execute_result"
    }
   ],
   "source": [
    "sent"
   ]
  },
  {
   "cell_type": "code",
   "execution_count": 4,
   "metadata": {},
   "outputs": [],
   "source": [
    "## Define the vocabulary size\n",
    "voc_size=10000"
   ]
  },
  {
   "cell_type": "code",
   "execution_count": 5,
   "metadata": {},
   "outputs": [
    {
     "data": {
      "text/plain": [
       "['the glass of milk',\n",
       " 'the glass of juice',\n",
       " 'the cup of tea',\n",
       " 'I am a good boy',\n",
       " 'I am a good developer',\n",
       " 'understand the meaning of words',\n",
       " 'your videos are good']"
      ]
     },
     "execution_count": 5,
     "metadata": {},
     "output_type": "execute_result"
    }
   ],
   "source": [
    "sent"
   ]
  },
  {
   "cell_type": "code",
   "execution_count": 6,
   "metadata": {},
   "outputs": [
    {
     "data": {
      "text/plain": [
       "[[8418, 4403, 1437, 4211],\n",
       " [8418, 4403, 1437, 7000],\n",
       " [8418, 6629, 1437, 918],\n",
       " [1707, 4347, 9457, 7764, 1610],\n",
       " [1707, 4347, 9457, 7764, 7414],\n",
       " [9053, 8418, 462, 1437, 8109],\n",
       " [68, 1443, 7092, 7764]]"
      ]
     },
     "execution_count": 6,
     "metadata": {},
     "output_type": "execute_result"
    }
   ],
   "source": [
    "### One Hot Representation\n",
    "one_hot_repr=[one_hot(words,voc_size)for words in sent]\n",
    "one_hot_repr"
   ]
  },
  {
   "cell_type": "code",
   "execution_count": 7,
   "metadata": {},
   "outputs": [],
   "source": [
    "## word Embedding Representation\n",
    "\n",
    "from tensorflow.keras.layers import Embedding\n",
    "#from tensorflow.keras.processing.sequence import pad_sequences\n",
    "from tensorflow.keras.utils import pad_sequences\n",
    "from tensorflow.keras.models import Sequential"
   ]
  },
  {
   "cell_type": "code",
   "execution_count": 8,
   "metadata": {},
   "outputs": [],
   "source": [
    "import numpy as np"
   ]
  },
  {
   "cell_type": "code",
   "execution_count": 9,
   "metadata": {},
   "outputs": [
    {
     "name": "stdout",
     "output_type": "stream",
     "text": [
      "[[   0    0    0    0 8418 4403 1437 4211]\n",
      " [   0    0    0    0 8418 4403 1437 7000]\n",
      " [   0    0    0    0 8418 6629 1437  918]\n",
      " [   0    0    0 1707 4347 9457 7764 1610]\n",
      " [   0    0    0 1707 4347 9457 7764 7414]\n",
      " [   0    0    0 9053 8418  462 1437 8109]\n",
      " [   0    0    0    0   68 1443 7092 7764]]\n"
     ]
    }
   ],
   "source": [
    "sent_length=8\n",
    "embedded_docs=pad_sequences(one_hot_repr,padding='pre',maxlen=sent_length)\n",
    "print(embedded_docs)"
   ]
  },
  {
   "cell_type": "code",
   "execution_count": 10,
   "metadata": {},
   "outputs": [],
   "source": [
    "## feature representation\n",
    "dim=10"
   ]
  },
  {
   "cell_type": "code",
   "execution_count": 11,
   "metadata": {},
   "outputs": [
    {
     "name": "stderr",
     "output_type": "stream",
     "text": [
      "c:\\Users\\anjal\\Deep_Learning_NLP\\venvac\\Lib\\site-packages\\keras\\src\\layers\\core\\embedding.py:97: UserWarning: Argument `input_length` is deprecated. Just remove it.\n",
      "  warnings.warn(\n"
     ]
    }
   ],
   "source": [
    "model=Sequential()\n",
    "model.add(Embedding(voc_size,dim,input_length=sent_length))\n",
    "model.compile('adam','mse')"
   ]
  },
  {
   "cell_type": "code",
   "execution_count": 12,
   "metadata": {},
   "outputs": [
    {
     "data": {
      "text/html": [
       "<pre style=\"white-space:pre;overflow-x:auto;line-height:normal;font-family:Menlo,'DejaVu Sans Mono',consolas,'Courier New',monospace\"><span style=\"font-weight: bold\">Model: \"sequential\"</span>\n",
       "</pre>\n"
      ],
      "text/plain": [
       "\u001b[1mModel: \"sequential\"\u001b[0m\n"
      ]
     },
     "metadata": {},
     "output_type": "display_data"
    },
    {
     "data": {
      "text/html": [
       "<pre style=\"white-space:pre;overflow-x:auto;line-height:normal;font-family:Menlo,'DejaVu Sans Mono',consolas,'Courier New',monospace\">┏━━━━━━━━━━━━━━━━━━━━━━━━━━━━━━━━━┳━━━━━━━━━━━━━━━━━━━━━━━━┳━━━━━━━━━━━━━━━┓\n",
       "┃<span style=\"font-weight: bold\"> Layer (type)                    </span>┃<span style=\"font-weight: bold\"> Output Shape           </span>┃<span style=\"font-weight: bold\">       Param # </span>┃\n",
       "┡━━━━━━━━━━━━━━━━━━━━━━━━━━━━━━━━━╇━━━━━━━━━━━━━━━━━━━━━━━━╇━━━━━━━━━━━━━━━┩\n",
       "│ embedding (<span style=\"color: #0087ff; text-decoration-color: #0087ff\">Embedding</span>)           │ (<span style=\"color: #00d7ff; text-decoration-color: #00d7ff\">None</span>, <span style=\"color: #00af00; text-decoration-color: #00af00\">8</span>, <span style=\"color: #00af00; text-decoration-color: #00af00\">10</span>)          │       <span style=\"color: #00af00; text-decoration-color: #00af00\">100,000</span> │\n",
       "└─────────────────────────────────┴────────────────────────┴───────────────┘\n",
       "</pre>\n"
      ],
      "text/plain": [
       "┏━━━━━━━━━━━━━━━━━━━━━━━━━━━━━━━━━┳━━━━━━━━━━━━━━━━━━━━━━━━┳━━━━━━━━━━━━━━━┓\n",
       "┃\u001b[1m \u001b[0m\u001b[1mLayer (type)                   \u001b[0m\u001b[1m \u001b[0m┃\u001b[1m \u001b[0m\u001b[1mOutput Shape          \u001b[0m\u001b[1m \u001b[0m┃\u001b[1m \u001b[0m\u001b[1m      Param #\u001b[0m\u001b[1m \u001b[0m┃\n",
       "┡━━━━━━━━━━━━━━━━━━━━━━━━━━━━━━━━━╇━━━━━━━━━━━━━━━━━━━━━━━━╇━━━━━━━━━━━━━━━┩\n",
       "│ embedding (\u001b[38;5;33mEmbedding\u001b[0m)           │ (\u001b[38;5;45mNone\u001b[0m, \u001b[38;5;34m8\u001b[0m, \u001b[38;5;34m10\u001b[0m)          │       \u001b[38;5;34m100,000\u001b[0m │\n",
       "└─────────────────────────────────┴────────────────────────┴───────────────┘\n"
      ]
     },
     "metadata": {},
     "output_type": "display_data"
    },
    {
     "data": {
      "text/html": [
       "<pre style=\"white-space:pre;overflow-x:auto;line-height:normal;font-family:Menlo,'DejaVu Sans Mono',consolas,'Courier New',monospace\"><span style=\"font-weight: bold\"> Total params: </span><span style=\"color: #00af00; text-decoration-color: #00af00\">100,000</span> (390.62 KB)\n",
       "</pre>\n"
      ],
      "text/plain": [
       "\u001b[1m Total params: \u001b[0m\u001b[38;5;34m100,000\u001b[0m (390.62 KB)\n"
      ]
     },
     "metadata": {},
     "output_type": "display_data"
    },
    {
     "data": {
      "text/html": [
       "<pre style=\"white-space:pre;overflow-x:auto;line-height:normal;font-family:Menlo,'DejaVu Sans Mono',consolas,'Courier New',monospace\"><span style=\"font-weight: bold\"> Trainable params: </span><span style=\"color: #00af00; text-decoration-color: #00af00\">100,000</span> (390.62 KB)\n",
       "</pre>\n"
      ],
      "text/plain": [
       "\u001b[1m Trainable params: \u001b[0m\u001b[38;5;34m100,000\u001b[0m (390.62 KB)\n"
      ]
     },
     "metadata": {},
     "output_type": "display_data"
    },
    {
     "data": {
      "text/html": [
       "<pre style=\"white-space:pre;overflow-x:auto;line-height:normal;font-family:Menlo,'DejaVu Sans Mono',consolas,'Courier New',monospace\"><span style=\"font-weight: bold\"> Non-trainable params: </span><span style=\"color: #00af00; text-decoration-color: #00af00\">0</span> (0.00 B)\n",
       "</pre>\n"
      ],
      "text/plain": [
       "\u001b[1m Non-trainable params: \u001b[0m\u001b[38;5;34m0\u001b[0m (0.00 B)\n"
      ]
     },
     "metadata": {},
     "output_type": "display_data"
    }
   ],
   "source": [
    "\n",
    "model.build(input_shape=(None, sent_length))\n",
    "model.summary()\n"
   ]
  },
  {
   "cell_type": "code",
   "execution_count": 13,
   "metadata": {},
   "outputs": [
    {
     "name": "stdout",
     "output_type": "stream",
     "text": [
      "\u001b[1m1/1\u001b[0m \u001b[32m━━━━━━━━━━━━━━━━━━━━\u001b[0m\u001b[37m\u001b[0m \u001b[1m1s\u001b[0m 787ms/step\n"
     ]
    },
    {
     "data": {
      "text/plain": [
       "array([[[ 3.12931798e-02, -2.15785392e-02,  1.22310519e-02,\n",
       "         -3.01797520e-02, -3.95803079e-02, -4.73208204e-02,\n",
       "         -2.21507680e-02, -4.61468101e-02, -4.11431082e-02,\n",
       "          2.62919925e-02],\n",
       "        [ 3.12931798e-02, -2.15785392e-02,  1.22310519e-02,\n",
       "         -3.01797520e-02, -3.95803079e-02, -4.73208204e-02,\n",
       "         -2.21507680e-02, -4.61468101e-02, -4.11431082e-02,\n",
       "          2.62919925e-02],\n",
       "        [ 3.12931798e-02, -2.15785392e-02,  1.22310519e-02,\n",
       "         -3.01797520e-02, -3.95803079e-02, -4.73208204e-02,\n",
       "         -2.21507680e-02, -4.61468101e-02, -4.11431082e-02,\n",
       "          2.62919925e-02],\n",
       "        [ 3.12931798e-02, -2.15785392e-02,  1.22310519e-02,\n",
       "         -3.01797520e-02, -3.95803079e-02, -4.73208204e-02,\n",
       "         -2.21507680e-02, -4.61468101e-02, -4.11431082e-02,\n",
       "          2.62919925e-02],\n",
       "        [ 4.62015718e-03,  2.41266564e-03,  9.39167663e-03,\n",
       "          3.41132022e-02,  2.94993855e-02, -4.70415466e-02,\n",
       "          3.21865082e-05, -9.80073214e-03, -1.35908946e-02,\n",
       "          2.91277654e-02],\n",
       "        [ 5.15516847e-03, -1.50959380e-02, -1.22575164e-02,\n",
       "          4.69037332e-02, -4.45835255e-02,  1.59656145e-02,\n",
       "          1.77671425e-02, -3.84199135e-02,  4.58550788e-02,\n",
       "         -2.03688871e-02],\n",
       "        [ 1.49759166e-02,  3.61770876e-02,  1.30711906e-02,\n",
       "          2.59299017e-02, -2.98961997e-02, -2.19272859e-02,\n",
       "         -1.56877749e-02, -3.54035720e-02, -3.81486900e-02,\n",
       "          2.54444815e-02],\n",
       "        [ 2.85975374e-02, -3.33027616e-02, -2.94946562e-02,\n",
       "         -6.57392666e-03,  3.45936455e-02, -3.62346545e-02,\n",
       "          4.96520139e-02,  3.46174724e-02, -3.52362543e-03,\n",
       "          1.49989761e-02]],\n",
       "\n",
       "       [[ 3.12931798e-02, -2.15785392e-02,  1.22310519e-02,\n",
       "         -3.01797520e-02, -3.95803079e-02, -4.73208204e-02,\n",
       "         -2.21507680e-02, -4.61468101e-02, -4.11431082e-02,\n",
       "          2.62919925e-02],\n",
       "        [ 3.12931798e-02, -2.15785392e-02,  1.22310519e-02,\n",
       "         -3.01797520e-02, -3.95803079e-02, -4.73208204e-02,\n",
       "         -2.21507680e-02, -4.61468101e-02, -4.11431082e-02,\n",
       "          2.62919925e-02],\n",
       "        [ 3.12931798e-02, -2.15785392e-02,  1.22310519e-02,\n",
       "         -3.01797520e-02, -3.95803079e-02, -4.73208204e-02,\n",
       "         -2.21507680e-02, -4.61468101e-02, -4.11431082e-02,\n",
       "          2.62919925e-02],\n",
       "        [ 3.12931798e-02, -2.15785392e-02,  1.22310519e-02,\n",
       "         -3.01797520e-02, -3.95803079e-02, -4.73208204e-02,\n",
       "         -2.21507680e-02, -4.61468101e-02, -4.11431082e-02,\n",
       "          2.62919925e-02],\n",
       "        [ 4.62015718e-03,  2.41266564e-03,  9.39167663e-03,\n",
       "          3.41132022e-02,  2.94993855e-02, -4.70415466e-02,\n",
       "          3.21865082e-05, -9.80073214e-03, -1.35908946e-02,\n",
       "          2.91277654e-02],\n",
       "        [ 5.15516847e-03, -1.50959380e-02, -1.22575164e-02,\n",
       "          4.69037332e-02, -4.45835255e-02,  1.59656145e-02,\n",
       "          1.77671425e-02, -3.84199135e-02,  4.58550788e-02,\n",
       "         -2.03688871e-02],\n",
       "        [ 1.49759166e-02,  3.61770876e-02,  1.30711906e-02,\n",
       "          2.59299017e-02, -2.98961997e-02, -2.19272859e-02,\n",
       "         -1.56877749e-02, -3.54035720e-02, -3.81486900e-02,\n",
       "          2.54444815e-02],\n",
       "        [-9.74161550e-03,  4.17933613e-03, -1.82765126e-02,\n",
       "         -8.46421719e-03,  3.18562649e-02,  3.67916487e-02,\n",
       "         -4.81453650e-02,  4.90282066e-02, -3.92653346e-02,\n",
       "         -8.28001648e-03]],\n",
       "\n",
       "       [[ 3.12931798e-02, -2.15785392e-02,  1.22310519e-02,\n",
       "         -3.01797520e-02, -3.95803079e-02, -4.73208204e-02,\n",
       "         -2.21507680e-02, -4.61468101e-02, -4.11431082e-02,\n",
       "          2.62919925e-02],\n",
       "        [ 3.12931798e-02, -2.15785392e-02,  1.22310519e-02,\n",
       "         -3.01797520e-02, -3.95803079e-02, -4.73208204e-02,\n",
       "         -2.21507680e-02, -4.61468101e-02, -4.11431082e-02,\n",
       "          2.62919925e-02],\n",
       "        [ 3.12931798e-02, -2.15785392e-02,  1.22310519e-02,\n",
       "         -3.01797520e-02, -3.95803079e-02, -4.73208204e-02,\n",
       "         -2.21507680e-02, -4.61468101e-02, -4.11431082e-02,\n",
       "          2.62919925e-02],\n",
       "        [ 3.12931798e-02, -2.15785392e-02,  1.22310519e-02,\n",
       "         -3.01797520e-02, -3.95803079e-02, -4.73208204e-02,\n",
       "         -2.21507680e-02, -4.61468101e-02, -4.11431082e-02,\n",
       "          2.62919925e-02],\n",
       "        [ 4.62015718e-03,  2.41266564e-03,  9.39167663e-03,\n",
       "          3.41132022e-02,  2.94993855e-02, -4.70415466e-02,\n",
       "          3.21865082e-05, -9.80073214e-03, -1.35908946e-02,\n",
       "          2.91277654e-02],\n",
       "        [ 2.98501886e-02,  1.65815391e-02,  1.46172531e-02,\n",
       "          4.10271548e-02,  1.07988715e-02, -3.53964567e-02,\n",
       "          3.10308821e-02,  3.06323208e-02, -3.22391167e-02,\n",
       "          4.55836169e-02],\n",
       "        [ 1.49759166e-02,  3.61770876e-02,  1.30711906e-02,\n",
       "          2.59299017e-02, -2.98961997e-02, -2.19272859e-02,\n",
       "         -1.56877749e-02, -3.54035720e-02, -3.81486900e-02,\n",
       "          2.54444815e-02],\n",
       "        [ 2.76247300e-02, -1.09653547e-03, -1.49273761e-02,\n",
       "          4.86551784e-02, -4.87535857e-02, -1.82904601e-02,\n",
       "          1.80426575e-02, -4.97555993e-02, -3.87591608e-02,\n",
       "         -1.68506503e-02]],\n",
       "\n",
       "       [[ 3.12931798e-02, -2.15785392e-02,  1.22310519e-02,\n",
       "         -3.01797520e-02, -3.95803079e-02, -4.73208204e-02,\n",
       "         -2.21507680e-02, -4.61468101e-02, -4.11431082e-02,\n",
       "          2.62919925e-02],\n",
       "        [ 3.12931798e-02, -2.15785392e-02,  1.22310519e-02,\n",
       "         -3.01797520e-02, -3.95803079e-02, -4.73208204e-02,\n",
       "         -2.21507680e-02, -4.61468101e-02, -4.11431082e-02,\n",
       "          2.62919925e-02],\n",
       "        [ 3.12931798e-02, -2.15785392e-02,  1.22310519e-02,\n",
       "         -3.01797520e-02, -3.95803079e-02, -4.73208204e-02,\n",
       "         -2.21507680e-02, -4.61468101e-02, -4.11431082e-02,\n",
       "          2.62919925e-02],\n",
       "        [-4.89754677e-02,  4.30075862e-02,  4.53825109e-02,\n",
       "         -2.99162399e-02, -1.88077930e-02, -2.54251249e-02,\n",
       "          3.17226313e-02, -1.82448998e-02, -2.32463367e-02,\n",
       "          4.03975286e-02],\n",
       "        [-7.06814229e-04,  1.75115503e-02, -4.00010571e-02,\n",
       "         -3.03398855e-02,  1.39594935e-02,  1.19551048e-02,\n",
       "         -3.03423163e-02, -1.52391195e-02,  1.73905157e-02,\n",
       "         -2.86191832e-02],\n",
       "        [-3.89875881e-02,  7.51275942e-03,  4.72286008e-02,\n",
       "         -7.91857392e-03,  3.42230089e-02,  1.51421912e-02,\n",
       "          5.84914535e-03,  5.62500954e-03,  5.12176752e-03,\n",
       "         -4.18247953e-02],\n",
       "        [ 4.05675657e-02, -4.95978370e-02,  4.43834327e-02,\n",
       "         -3.36224325e-02,  1.33402385e-02, -3.51383798e-02,\n",
       "          1.37375332e-02, -3.86307836e-02,  4.57547605e-04,\n",
       "          4.01315428e-02],\n",
       "        [ 1.94287188e-02,  3.08917649e-02,  3.17795910e-02,\n",
       "          2.03746669e-02, -1.15739703e-02, -2.05470249e-03,\n",
       "         -1.98544022e-02,  4.77937348e-02, -3.00176274e-02,\n",
       "          2.91409008e-02]],\n",
       "\n",
       "       [[ 3.12931798e-02, -2.15785392e-02,  1.22310519e-02,\n",
       "         -3.01797520e-02, -3.95803079e-02, -4.73208204e-02,\n",
       "         -2.21507680e-02, -4.61468101e-02, -4.11431082e-02,\n",
       "          2.62919925e-02],\n",
       "        [ 3.12931798e-02, -2.15785392e-02,  1.22310519e-02,\n",
       "         -3.01797520e-02, -3.95803079e-02, -4.73208204e-02,\n",
       "         -2.21507680e-02, -4.61468101e-02, -4.11431082e-02,\n",
       "          2.62919925e-02],\n",
       "        [ 3.12931798e-02, -2.15785392e-02,  1.22310519e-02,\n",
       "         -3.01797520e-02, -3.95803079e-02, -4.73208204e-02,\n",
       "         -2.21507680e-02, -4.61468101e-02, -4.11431082e-02,\n",
       "          2.62919925e-02],\n",
       "        [-4.89754677e-02,  4.30075862e-02,  4.53825109e-02,\n",
       "         -2.99162399e-02, -1.88077930e-02, -2.54251249e-02,\n",
       "          3.17226313e-02, -1.82448998e-02, -2.32463367e-02,\n",
       "          4.03975286e-02],\n",
       "        [-7.06814229e-04,  1.75115503e-02, -4.00010571e-02,\n",
       "         -3.03398855e-02,  1.39594935e-02,  1.19551048e-02,\n",
       "         -3.03423163e-02, -1.52391195e-02,  1.73905157e-02,\n",
       "         -2.86191832e-02],\n",
       "        [-3.89875881e-02,  7.51275942e-03,  4.72286008e-02,\n",
       "         -7.91857392e-03,  3.42230089e-02,  1.51421912e-02,\n",
       "          5.84914535e-03,  5.62500954e-03,  5.12176752e-03,\n",
       "         -4.18247953e-02],\n",
       "        [ 4.05675657e-02, -4.95978370e-02,  4.43834327e-02,\n",
       "         -3.36224325e-02,  1.33402385e-02, -3.51383798e-02,\n",
       "          1.37375332e-02, -3.86307836e-02,  4.57547605e-04,\n",
       "          4.01315428e-02],\n",
       "        [-1.35803223e-03, -1.80946589e-02,  8.05307552e-03,\n",
       "         -3.16580683e-02,  2.49192007e-02,  8.58956575e-03,\n",
       "         -4.10395488e-02,  3.46111394e-02, -1.66713111e-02,\n",
       "         -3.57380994e-02]],\n",
       "\n",
       "       [[ 3.12931798e-02, -2.15785392e-02,  1.22310519e-02,\n",
       "         -3.01797520e-02, -3.95803079e-02, -4.73208204e-02,\n",
       "         -2.21507680e-02, -4.61468101e-02, -4.11431082e-02,\n",
       "          2.62919925e-02],\n",
       "        [ 3.12931798e-02, -2.15785392e-02,  1.22310519e-02,\n",
       "         -3.01797520e-02, -3.95803079e-02, -4.73208204e-02,\n",
       "         -2.21507680e-02, -4.61468101e-02, -4.11431082e-02,\n",
       "          2.62919925e-02],\n",
       "        [ 3.12931798e-02, -2.15785392e-02,  1.22310519e-02,\n",
       "         -3.01797520e-02, -3.95803079e-02, -4.73208204e-02,\n",
       "         -2.21507680e-02, -4.61468101e-02, -4.11431082e-02,\n",
       "          2.62919925e-02],\n",
       "        [-1.84044987e-03,  4.46565412e-02,  1.78853422e-03,\n",
       "          3.00771855e-02, -2.72146109e-02,  1.31093524e-02,\n",
       "          4.19679992e-02, -1.81461461e-02,  4.39434908e-02,\n",
       "          4.36828248e-02],\n",
       "        [ 4.62015718e-03,  2.41266564e-03,  9.39167663e-03,\n",
       "          3.41132022e-02,  2.94993855e-02, -4.70415466e-02,\n",
       "          3.21865082e-05, -9.80073214e-03, -1.35908946e-02,\n",
       "          2.91277654e-02],\n",
       "        [-1.07706897e-02, -3.28488499e-02, -3.85850072e-02,\n",
       "          5.59458882e-03,  1.57393143e-03,  4.52298783e-02,\n",
       "         -2.84700468e-03,  9.56096500e-03, -1.93835031e-02,\n",
       "          1.89442746e-02],\n",
       "        [ 1.49759166e-02,  3.61770876e-02,  1.30711906e-02,\n",
       "          2.59299017e-02, -2.98961997e-02, -2.19272859e-02,\n",
       "         -1.56877749e-02, -3.54035720e-02, -3.81486900e-02,\n",
       "          2.54444815e-02],\n",
       "        [-4.76006158e-02,  1.17503777e-02,  4.03128378e-02,\n",
       "         -1.42276660e-02,  2.88376845e-02,  3.29979695e-02,\n",
       "          6.88612461e-04,  4.92793322e-03, -3.70568037e-02,\n",
       "          4.66909148e-02]],\n",
       "\n",
       "       [[ 3.12931798e-02, -2.15785392e-02,  1.22310519e-02,\n",
       "         -3.01797520e-02, -3.95803079e-02, -4.73208204e-02,\n",
       "         -2.21507680e-02, -4.61468101e-02, -4.11431082e-02,\n",
       "          2.62919925e-02],\n",
       "        [ 3.12931798e-02, -2.15785392e-02,  1.22310519e-02,\n",
       "         -3.01797520e-02, -3.95803079e-02, -4.73208204e-02,\n",
       "         -2.21507680e-02, -4.61468101e-02, -4.11431082e-02,\n",
       "          2.62919925e-02],\n",
       "        [ 3.12931798e-02, -2.15785392e-02,  1.22310519e-02,\n",
       "         -3.01797520e-02, -3.95803079e-02, -4.73208204e-02,\n",
       "         -2.21507680e-02, -4.61468101e-02, -4.11431082e-02,\n",
       "          2.62919925e-02],\n",
       "        [ 3.12931798e-02, -2.15785392e-02,  1.22310519e-02,\n",
       "         -3.01797520e-02, -3.95803079e-02, -4.73208204e-02,\n",
       "         -2.21507680e-02, -4.61468101e-02, -4.11431082e-02,\n",
       "          2.62919925e-02],\n",
       "        [ 3.17439549e-02, -6.66784123e-03,  1.43334158e-02,\n",
       "         -2.55202055e-02, -3.59792486e-02,  2.60133035e-02,\n",
       "         -1.20139234e-02,  1.03045218e-02,  2.65567563e-02,\n",
       "         -1.09840557e-03],\n",
       "        [ 1.10766664e-02,  2.15808265e-02,  1.75301097e-02,\n",
       "          2.37472318e-02, -2.52346639e-02, -3.08849812e-02,\n",
       "         -2.02574730e-02,  2.07660459e-02,  2.40225717e-03,\n",
       "         -4.11716923e-02],\n",
       "        [-1.25937238e-02, -3.35166603e-03,  2.12486833e-03,\n",
       "         -4.75981832e-02,  2.58573554e-02, -4.99808788e-02,\n",
       "         -4.46299799e-02,  9.81235504e-03, -2.24336144e-02,\n",
       "          4.28592674e-02],\n",
       "        [ 4.05675657e-02, -4.95978370e-02,  4.43834327e-02,\n",
       "         -3.36224325e-02,  1.33402385e-02, -3.51383798e-02,\n",
       "          1.37375332e-02, -3.86307836e-02,  4.57547605e-04,\n",
       "          4.01315428e-02]]], dtype=float32)"
      ]
     },
     "execution_count": 13,
     "metadata": {},
     "output_type": "execute_result"
    }
   ],
   "source": [
    "model.predict(embedded_docs)"
   ]
  },
  {
   "cell_type": "code",
   "execution_count": 14,
   "metadata": {},
   "outputs": [
    {
     "data": {
      "text/plain": [
       "array([   0,    0,    0,    0, 8418, 4403, 1437, 4211], dtype=int32)"
      ]
     },
     "execution_count": 14,
     "metadata": {},
     "output_type": "execute_result"
    }
   ],
   "source": [
    "embedded_docs[0]"
   ]
  },
  {
   "cell_type": "code",
   "execution_count": 16,
   "metadata": {},
   "outputs": [
    {
     "ename": "ValueError",
     "evalue": "Exception encountered when calling Sequential.call().\n\n\u001b[1mCannot take the length of shape with unknown rank.\u001b[0m\n\nArguments received by Sequential.call():\n  • inputs=tf.Tensor(shape=<unknown>, dtype=int32)\n  • training=False\n  • mask=None\n  • kwargs=<class 'inspect._empty'>",
     "output_type": "error",
     "traceback": [
      "\u001b[31m---------------------------------------------------------------------------\u001b[39m",
      "\u001b[31mValueError\u001b[39m                                Traceback (most recent call last)",
      "\u001b[36mCell\u001b[39m\u001b[36m \u001b[39m\u001b[32mIn[16]\u001b[39m\u001b[32m, line 1\u001b[39m\n\u001b[32m----> \u001b[39m\u001b[32m1\u001b[39m \u001b[43mmodel\u001b[49m\u001b[43m.\u001b[49m\u001b[43mpredict\u001b[49m\u001b[43m(\u001b[49m\u001b[43membedded_docs\u001b[49m\u001b[43m[\u001b[49m\u001b[32;43m0\u001b[39;49m\u001b[43m]\u001b[49m\u001b[43m)\u001b[49m\n",
      "\u001b[36mFile \u001b[39m\u001b[32mc:\\Users\\anjal\\Deep_Learning_NLP\\venvac\\Lib\\site-packages\\keras\\src\\utils\\traceback_utils.py:122\u001b[39m, in \u001b[36mfilter_traceback.<locals>.error_handler\u001b[39m\u001b[34m(*args, **kwargs)\u001b[39m\n\u001b[32m    119\u001b[39m     filtered_tb = _process_traceback_frames(e.__traceback__)\n\u001b[32m    120\u001b[39m     \u001b[38;5;66;03m# To get the full stack trace, call:\u001b[39;00m\n\u001b[32m    121\u001b[39m     \u001b[38;5;66;03m# `keras.config.disable_traceback_filtering()`\u001b[39;00m\n\u001b[32m--> \u001b[39m\u001b[32m122\u001b[39m     \u001b[38;5;28;01mraise\u001b[39;00m e.with_traceback(filtered_tb) \u001b[38;5;28;01mfrom\u001b[39;00m\u001b[38;5;250m \u001b[39m\u001b[38;5;28;01mNone\u001b[39;00m\n\u001b[32m    123\u001b[39m \u001b[38;5;28;01mfinally\u001b[39;00m:\n\u001b[32m    124\u001b[39m     \u001b[38;5;28;01mdel\u001b[39;00m filtered_tb\n",
      "\u001b[36mFile \u001b[39m\u001b[32mc:\\Users\\anjal\\Deep_Learning_NLP\\venvac\\Lib\\site-packages\\keras\\src\\utils\\traceback_utils.py:122\u001b[39m, in \u001b[36mfilter_traceback.<locals>.error_handler\u001b[39m\u001b[34m(*args, **kwargs)\u001b[39m\n\u001b[32m    119\u001b[39m     filtered_tb = _process_traceback_frames(e.__traceback__)\n\u001b[32m    120\u001b[39m     \u001b[38;5;66;03m# To get the full stack trace, call:\u001b[39;00m\n\u001b[32m    121\u001b[39m     \u001b[38;5;66;03m# `keras.config.disable_traceback_filtering()`\u001b[39;00m\n\u001b[32m--> \u001b[39m\u001b[32m122\u001b[39m     \u001b[38;5;28;01mraise\u001b[39;00m e.with_traceback(filtered_tb) \u001b[38;5;28;01mfrom\u001b[39;00m\u001b[38;5;250m \u001b[39m\u001b[38;5;28;01mNone\u001b[39;00m\n\u001b[32m    123\u001b[39m \u001b[38;5;28;01mfinally\u001b[39;00m:\n\u001b[32m    124\u001b[39m     \u001b[38;5;28;01mdel\u001b[39;00m filtered_tb\n",
      "\u001b[31mValueError\u001b[39m: Exception encountered when calling Sequential.call().\n\n\u001b[1mCannot take the length of shape with unknown rank.\u001b[0m\n\nArguments received by Sequential.call():\n  • inputs=tf.Tensor(shape=<unknown>, dtype=int32)\n  • training=False\n  • mask=None\n  • kwargs=<class 'inspect._empty'>"
     ]
    }
   ],
   "source": [
    "model.predict(embedded_docs[0])"
   ]
  },
  {
   "cell_type": "code",
   "execution_count": null,
   "metadata": {},
   "outputs": [],
   "source": []
  }
 ],
 "metadata": {
  "kernelspec": {
   "display_name": "Python 3",
   "language": "python",
   "name": "python3"
  },
  "language_info": {
   "codemirror_mode": {
    "name": "ipython",
    "version": 3
   },
   "file_extension": ".py",
   "mimetype": "text/x-python",
   "name": "python",
   "nbconvert_exporter": "python",
   "pygments_lexer": "ipython3",
   "version": "3.12.0"
  }
 },
 "nbformat": 4,
 "nbformat_minor": 2
}
