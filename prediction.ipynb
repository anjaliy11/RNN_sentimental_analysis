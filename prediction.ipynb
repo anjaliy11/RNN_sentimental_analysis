{
 "cells": [
  {
   "cell_type": "code",
   "execution_count": 1,
   "metadata": {},
   "outputs": [],
   "source": [
    "# Step 1: Import Libraries and Load the Model\n",
    "import numpy as np\n",
    "import tensorflow as tf\n",
    "from tensorflow.keras.datasets import imdb\n",
    "from tensorflow.keras.preprocessing import sequence\n",
    "from tensorflow.keras.models import load_model"
   ]
  },
  {
   "cell_type": "code",
   "execution_count": 2,
   "metadata": {},
   "outputs": [],
   "source": [
    "\n",
    "# Load the IMDB dataset word index\n",
    "word_index = imdb.get_word_index()\n",
    "reverse_word_index = {value: key for key, value in word_index.items()}"
   ]
  },
  {
   "cell_type": "code",
   "execution_count": 3,
   "metadata": {},
   "outputs": [
    {
     "data": {
      "text/html": [
       "<pre style=\"white-space:pre;overflow-x:auto;line-height:normal;font-family:Menlo,'DejaVu Sans Mono',consolas,'Courier New',monospace\"><span style=\"font-weight: bold\">Model: \"sequential\"</span>\n",
       "</pre>\n"
      ],
      "text/plain": [
       "\u001b[1mModel: \"sequential\"\u001b[0m\n"
      ]
     },
     "metadata": {},
     "output_type": "display_data"
    },
    {
     "data": {
      "text/html": [
       "<pre style=\"white-space:pre;overflow-x:auto;line-height:normal;font-family:Menlo,'DejaVu Sans Mono',consolas,'Courier New',monospace\">┏━━━━━━━━━━━━━━━━━━━━━━━━━━━━━━━━━┳━━━━━━━━━━━━━━━━━━━━━━━━┳━━━━━━━━━━━━━━━┓\n",
       "┃<span style=\"font-weight: bold\"> Layer (type)                    </span>┃<span style=\"font-weight: bold\"> Output Shape           </span>┃<span style=\"font-weight: bold\">       Param # </span>┃\n",
       "┡━━━━━━━━━━━━━━━━━━━━━━━━━━━━━━━━━╇━━━━━━━━━━━━━━━━━━━━━━━━╇━━━━━━━━━━━━━━━┩\n",
       "│ embedding (<span style=\"color: #0087ff; text-decoration-color: #0087ff\">Embedding</span>)           │ (<span style=\"color: #00d7ff; text-decoration-color: #00d7ff\">None</span>, <span style=\"color: #00af00; text-decoration-color: #00af00\">500</span>, <span style=\"color: #00af00; text-decoration-color: #00af00\">128</span>)       │     <span style=\"color: #00af00; text-decoration-color: #00af00\">1,280,000</span> │\n",
       "├─────────────────────────────────┼────────────────────────┼───────────────┤\n",
       "│ simple_rnn (<span style=\"color: #0087ff; text-decoration-color: #0087ff\">SimpleRNN</span>)          │ (<span style=\"color: #00d7ff; text-decoration-color: #00d7ff\">None</span>, <span style=\"color: #00af00; text-decoration-color: #00af00\">128</span>)            │        <span style=\"color: #00af00; text-decoration-color: #00af00\">32,896</span> │\n",
       "├─────────────────────────────────┼────────────────────────┼───────────────┤\n",
       "│ dense (<span style=\"color: #0087ff; text-decoration-color: #0087ff\">Dense</span>)                   │ (<span style=\"color: #00d7ff; text-decoration-color: #00d7ff\">None</span>, <span style=\"color: #00af00; text-decoration-color: #00af00\">1</span>)              │           <span style=\"color: #00af00; text-decoration-color: #00af00\">129</span> │\n",
       "└─────────────────────────────────┴────────────────────────┴───────────────┘\n",
       "</pre>\n"
      ],
      "text/plain": [
       "┏━━━━━━━━━━━━━━━━━━━━━━━━━━━━━━━━━┳━━━━━━━━━━━━━━━━━━━━━━━━┳━━━━━━━━━━━━━━━┓\n",
       "┃\u001b[1m \u001b[0m\u001b[1mLayer (type)                   \u001b[0m\u001b[1m \u001b[0m┃\u001b[1m \u001b[0m\u001b[1mOutput Shape          \u001b[0m\u001b[1m \u001b[0m┃\u001b[1m \u001b[0m\u001b[1m      Param #\u001b[0m\u001b[1m \u001b[0m┃\n",
       "┡━━━━━━━━━━━━━━━━━━━━━━━━━━━━━━━━━╇━━━━━━━━━━━━━━━━━━━━━━━━╇━━━━━━━━━━━━━━━┩\n",
       "│ embedding (\u001b[38;5;33mEmbedding\u001b[0m)           │ (\u001b[38;5;45mNone\u001b[0m, \u001b[38;5;34m500\u001b[0m, \u001b[38;5;34m128\u001b[0m)       │     \u001b[38;5;34m1,280,000\u001b[0m │\n",
       "├─────────────────────────────────┼────────────────────────┼───────────────┤\n",
       "│ simple_rnn (\u001b[38;5;33mSimpleRNN\u001b[0m)          │ (\u001b[38;5;45mNone\u001b[0m, \u001b[38;5;34m128\u001b[0m)            │        \u001b[38;5;34m32,896\u001b[0m │\n",
       "├─────────────────────────────────┼────────────────────────┼───────────────┤\n",
       "│ dense (\u001b[38;5;33mDense\u001b[0m)                   │ (\u001b[38;5;45mNone\u001b[0m, \u001b[38;5;34m1\u001b[0m)              │           \u001b[38;5;34m129\u001b[0m │\n",
       "└─────────────────────────────────┴────────────────────────┴───────────────┘\n"
      ]
     },
     "metadata": {},
     "output_type": "display_data"
    },
    {
     "data": {
      "text/html": [
       "<pre style=\"white-space:pre;overflow-x:auto;line-height:normal;font-family:Menlo,'DejaVu Sans Mono',consolas,'Courier New',monospace\"><span style=\"font-weight: bold\"> Total params: </span><span style=\"color: #00af00; text-decoration-color: #00af00\">3,939,077</span> (15.03 MB)\n",
       "</pre>\n"
      ],
      "text/plain": [
       "\u001b[1m Total params: \u001b[0m\u001b[38;5;34m3,939,077\u001b[0m (15.03 MB)\n"
      ]
     },
     "metadata": {},
     "output_type": "display_data"
    },
    {
     "data": {
      "text/html": [
       "<pre style=\"white-space:pre;overflow-x:auto;line-height:normal;font-family:Menlo,'DejaVu Sans Mono',consolas,'Courier New',monospace\"><span style=\"font-weight: bold\"> Trainable params: </span><span style=\"color: #00af00; text-decoration-color: #00af00\">1,313,025</span> (5.01 MB)\n",
       "</pre>\n"
      ],
      "text/plain": [
       "\u001b[1m Trainable params: \u001b[0m\u001b[38;5;34m1,313,025\u001b[0m (5.01 MB)\n"
      ]
     },
     "metadata": {},
     "output_type": "display_data"
    },
    {
     "data": {
      "text/html": [
       "<pre style=\"white-space:pre;overflow-x:auto;line-height:normal;font-family:Menlo,'DejaVu Sans Mono',consolas,'Courier New',monospace\"><span style=\"font-weight: bold\"> Non-trainable params: </span><span style=\"color: #00af00; text-decoration-color: #00af00\">0</span> (0.00 B)\n",
       "</pre>\n"
      ],
      "text/plain": [
       "\u001b[1m Non-trainable params: \u001b[0m\u001b[38;5;34m0\u001b[0m (0.00 B)\n"
      ]
     },
     "metadata": {},
     "output_type": "display_data"
    },
    {
     "data": {
      "text/html": [
       "<pre style=\"white-space:pre;overflow-x:auto;line-height:normal;font-family:Menlo,'DejaVu Sans Mono',consolas,'Courier New',monospace\"><span style=\"font-weight: bold\"> Optimizer params: </span><span style=\"color: #00af00; text-decoration-color: #00af00\">2,626,052</span> (10.02 MB)\n",
       "</pre>\n"
      ],
      "text/plain": [
       "\u001b[1m Optimizer params: \u001b[0m\u001b[38;5;34m2,626,052\u001b[0m (10.02 MB)\n"
      ]
     },
     "metadata": {},
     "output_type": "display_data"
    }
   ],
   "source": [
    "# Load the pre-trained model with ReLU activation\n",
    "model = load_model('simple_rnn_imdb.keras')\n",
    "model.summary()"
   ]
  },
  {
   "cell_type": "code",
   "execution_count": 4,
   "metadata": {},
   "outputs": [
    {
     "data": {
      "text/plain": [
       "[array([[ 0.3313634 , -0.40797412,  0.3545525 , ..., -0.3012166 ,\n",
       "          0.3339646 ,  0.31465575],\n",
       "        [ 0.02415442,  0.02777917, -0.01002766, ..., -0.01574948,\n",
       "          0.00143039,  0.01419438],\n",
       "        [ 0.00408169,  0.01687602,  0.07391918, ..., -0.03125392,\n",
       "          0.05397508,  0.05710803],\n",
       "        ...,\n",
       "        [-0.06611872,  0.00900361,  0.05808457, ..., -0.03064157,\n",
       "          0.01098214, -0.031571  ],\n",
       "        [ 0.02577928, -0.03667358,  0.03903222, ...,  0.00205055,\n",
       "         -0.03931471,  0.01932167],\n",
       "        [-0.18695405, -0.14793147, -0.0213249 , ...,  0.03454801,\n",
       "          0.19183348, -0.1309102 ]], shape=(10000, 128), dtype=float32),\n",
       " array([[-0.08117728, -0.11645611, -0.08115324, ...,  0.09148917,\n",
       "          0.12928264, -0.04526043],\n",
       "        [ 0.01940404,  0.12154134, -0.06040321, ..., -0.00079163,\n",
       "         -0.00546992, -0.00835464],\n",
       "        [ 0.13332652, -0.11713526,  0.04718234, ..., -0.14468576,\n",
       "          0.12722827, -0.03428842],\n",
       "        ...,\n",
       "        [ 0.08201512, -0.01680664,  0.14305726, ...,  0.03986716,\n",
       "          0.01235576, -0.02607052],\n",
       "        [ 0.06672602, -0.02832434, -0.13251373, ..., -0.1687727 ,\n",
       "         -0.0142365 , -0.05414731],\n",
       "        [ 0.1431946 ,  0.08378733, -0.05355147, ..., -0.07433696,\n",
       "          0.01505733,  0.14075719]], shape=(128, 128), dtype=float32),\n",
       " array([[-0.04926542,  0.00022867, -0.05418767, ...,  0.03351831,\n",
       "          0.05206586, -0.06826399],\n",
       "        [ 0.1287943 , -0.0472425 ,  0.09749047, ...,  0.11687839,\n",
       "         -0.05895121, -0.05660506],\n",
       "        [ 0.04322883, -0.0118007 , -0.01413354, ...,  0.05021029,\n",
       "         -0.12783685,  0.0428078 ],\n",
       "        ...,\n",
       "        [ 0.09427941,  0.0909621 , -0.03565121, ..., -0.02742152,\n",
       "         -0.07733138, -0.019698  ],\n",
       "        [-0.17303436, -0.06250633,  0.01814767, ...,  0.15144265,\n",
       "         -0.22592795,  0.00812776],\n",
       "        [ 0.10512563, -0.22319087, -0.12687196, ...,  0.03600776,\n",
       "          0.01013025, -0.0053834 ]], shape=(128, 128), dtype=float32),\n",
       " array([ 3.14011867e-03, -1.85673833e-02, -8.77220184e-03,  1.22866984e-02,\n",
       "        -9.21269320e-03, -2.00391039e-02, -9.14049894e-03, -1.67523127e-03,\n",
       "        -5.31264953e-03, -5.73515333e-03, -2.18702890e-02,  7.50738382e-03,\n",
       "         6.59023225e-03,  1.02797370e-04, -1.81794073e-02, -2.00674217e-03,\n",
       "        -1.57009941e-02, -1.21974535e-02, -3.32730496e-03, -5.56776160e-03,\n",
       "        -1.21283578e-02, -4.67426050e-03, -8.42694286e-03,  2.27338169e-02,\n",
       "         1.58117805e-02, -6.36580819e-03, -1.00198938e-02, -1.68358057e-03,\n",
       "         2.03001266e-03,  2.11227760e-02, -1.07032359e-02,  4.73264046e-03,\n",
       "         6.14755647e-03, -1.25789912e-02, -3.68838478e-03,  3.86263756e-03,\n",
       "         1.13842683e-02, -1.03746923e-02,  1.41301146e-02, -4.61778883e-03,\n",
       "         8.63031892e-04, -7.52215507e-03, -1.39526185e-02,  5.56693738e-03,\n",
       "         4.96739661e-03, -1.57141145e-02, -1.02436636e-02, -9.66316927e-03,\n",
       "        -5.77006955e-03,  1.92375835e-02, -1.19497776e-02, -1.57894287e-02,\n",
       "         1.94003973e-02,  6.79669948e-03, -1.47142634e-02,  1.83522189e-03,\n",
       "        -2.93236086e-03, -6.04442414e-03, -1.39728319e-02,  9.18954145e-04,\n",
       "         9.13563371e-03, -1.10461470e-02, -1.62898973e-02,  1.32744135e-02,\n",
       "        -4.78573889e-03,  2.57932348e-03, -9.93855938e-05, -1.36312693e-02,\n",
       "        -6.67495234e-03,  1.22558018e-02,  1.88037697e-02,  3.33408406e-03,\n",
       "        -1.66472178e-02, -3.82342655e-03, -1.52837764e-02, -1.15951793e-02,\n",
       "         2.45191157e-03,  1.12884315e-02,  4.93247807e-03, -1.72872636e-02,\n",
       "        -1.83554329e-02, -9.41880886e-03, -2.18708278e-03, -1.61134044e-03,\n",
       "        -1.65300723e-03,  1.36569599e-02, -1.19086299e-02, -8.38345569e-03,\n",
       "        -3.69071821e-03, -1.73004698e-02, -1.63612776e-02, -1.29339946e-02,\n",
       "         7.48653151e-03,  1.63321057e-03, -2.27423590e-02,  1.66094005e-02,\n",
       "         8.87764152e-04, -8.07620119e-03, -8.60531256e-03,  1.42687671e-02,\n",
       "        -6.26199413e-03, -2.19794605e-02,  1.04035633e-02,  1.00105489e-02,\n",
       "         1.28248250e-02, -8.06681626e-03, -9.81330406e-03,  2.61434093e-02,\n",
       "        -1.11167636e-02,  2.66064629e-02,  7.11970357e-03, -6.54326612e-03,\n",
       "         1.08341249e-02, -1.34384434e-03, -7.47072324e-03, -9.88812838e-03,\n",
       "        -1.94970481e-02, -9.79380123e-03,  1.55068804e-02,  1.87360886e-02,\n",
       "         1.93043072e-02,  3.85096250e-03,  2.10855696e-02,  1.23266522e-02,\n",
       "        -9.64974693e-04, -4.44922689e-03,  9.52561665e-03,  4.43684030e-03],\n",
       "       dtype=float32),\n",
       " array([[-0.22664467],\n",
       "        [ 0.0156099 ],\n",
       "        [-0.00829953],\n",
       "        [-0.10987848],\n",
       "        [-0.29016364],\n",
       "        [-0.07690428],\n",
       "        [ 0.24816562],\n",
       "        [-0.17977056],\n",
       "        [ 0.19503392],\n",
       "        [-0.151072  ],\n",
       "        [ 0.05502844],\n",
       "        [-0.30897686],\n",
       "        [ 0.22882262],\n",
       "        [-0.01107024],\n",
       "        [-0.08674389],\n",
       "        [-0.20388024],\n",
       "        [-0.05204753],\n",
       "        [ 0.02902253],\n",
       "        [-0.12490987],\n",
       "        [-0.48480436],\n",
       "        [ 0.01940443],\n",
       "        [-0.35541254],\n",
       "        [-0.1376843 ],\n",
       "        [ 0.2310163 ],\n",
       "        [-0.03264146],\n",
       "        [-0.180431  ],\n",
       "        [-0.02350578],\n",
       "        [-0.00301364],\n",
       "        [-0.08899278],\n",
       "        [ 0.3447771 ],\n",
       "        [ 0.2213212 ],\n",
       "        [-0.08358552],\n",
       "        [-0.038118  ],\n",
       "        [-0.1746191 ],\n",
       "        [-0.17915878],\n",
       "        [-1.2156094 ],\n",
       "        [-0.61115247],\n",
       "        [ 0.05815389],\n",
       "        [-0.10529448],\n",
       "        [-0.31719202],\n",
       "        [ 0.03018886],\n",
       "        [-0.6282843 ],\n",
       "        [-0.08229161],\n",
       "        [ 0.10705521],\n",
       "        [-0.04762517],\n",
       "        [-0.28464812],\n",
       "        [ 0.10908759],\n",
       "        [-0.11322644],\n",
       "        [-0.012543  ],\n",
       "        [-0.02735304],\n",
       "        [-0.09128109],\n",
       "        [-0.02406216],\n",
       "        [ 0.24524894],\n",
       "        [-0.2101299 ],\n",
       "        [-0.12283005],\n",
       "        [-0.12458533],\n",
       "        [ 0.19476496],\n",
       "        [-0.34131444],\n",
       "        [ 0.1019399 ],\n",
       "        [-1.2220721 ],\n",
       "        [ 0.3597201 ],\n",
       "        [-0.01773691],\n",
       "        [ 0.1196069 ],\n",
       "        [ 0.11740576],\n",
       "        [-0.16155726],\n",
       "        [ 0.06654198],\n",
       "        [-0.41995707],\n",
       "        [ 0.2671742 ],\n",
       "        [-0.20940164],\n",
       "        [-0.17302126],\n",
       "        [ 0.20856217],\n",
       "        [ 0.26173434],\n",
       "        [ 0.18445213],\n",
       "        [-0.12569803],\n",
       "        [-0.03560895],\n",
       "        [-0.12637372],\n",
       "        [-0.10763454],\n",
       "        [-0.05304033],\n",
       "        [-0.6297656 ],\n",
       "        [-0.08496137],\n",
       "        [ 0.01005684],\n",
       "        [ 0.10886776],\n",
       "        [ 0.03144364],\n",
       "        [-0.20002161],\n",
       "        [-0.1720505 ],\n",
       "        [-0.09504203],\n",
       "        [-0.13629504],\n",
       "        [-0.04588179],\n",
       "        [-0.0369004 ],\n",
       "        [-0.05028836],\n",
       "        [-0.04191558],\n",
       "        [ 0.05183304],\n",
       "        [-0.04641447],\n",
       "        [ 0.11704466],\n",
       "        [-0.16233069],\n",
       "        [ 0.1872017 ],\n",
       "        [-0.15481748],\n",
       "        [ 0.13443959],\n",
       "        [ 0.09103511],\n",
       "        [ 0.2364616 ],\n",
       "        [-0.09623614],\n",
       "        [-0.03220156],\n",
       "        [-0.09004977],\n",
       "        [-0.1290656 ],\n",
       "        [ 0.11153968],\n",
       "        [-0.10222972],\n",
       "        [ 0.16664146],\n",
       "        [ 0.10985073],\n",
       "        [-0.12803993],\n",
       "        [ 0.00808987],\n",
       "        [-0.12466215],\n",
       "        [-0.21551777],\n",
       "        [-0.31722796],\n",
       "        [ 0.21052615],\n",
       "        [ 0.19900356],\n",
       "        [-0.05175037],\n",
       "        [-0.14502151],\n",
       "        [-0.04290695],\n",
       "        [ 0.15463842],\n",
       "        [ 0.1563573 ],\n",
       "        [ 0.11458933],\n",
       "        [-0.04450076],\n",
       "        [ 0.33048275],\n",
       "        [ 0.26244977],\n",
       "        [-0.0768941 ],\n",
       "        [-0.21741216],\n",
       "        [ 0.22229755],\n",
       "        [-0.20039654]], dtype=float32),\n",
       " array([-0.80787367], dtype=float32)]"
      ]
     },
     "execution_count": 4,
     "metadata": {},
     "output_type": "execute_result"
    }
   ],
   "source": [
    "model.get_weights()"
   ]
  },
  {
   "cell_type": "code",
   "execution_count": 5,
   "metadata": {},
   "outputs": [],
   "source": [
    "# Step 2: Helper Functions\n",
    "# Function to decode reviews\n",
    "def decode_review(encoded_review):\n",
    "    return ' '.join([reverse_word_index.get(i - 3, '?') for i in encoded_review])\n",
    "\n",
    "# Function to preprocess user input\n",
    "def preprocess_text(text):\n",
    "    words = text.lower().split()\n",
    "    encoded_review = [word_index.get(word, 2) + 3 for word in words]\n",
    "    padded_review = sequence.pad_sequences([encoded_review], maxlen=500)\n",
    "    return padded_review"
   ]
  },
  {
   "cell_type": "code",
   "execution_count": 6,
   "metadata": {},
   "outputs": [],
   "source": [
    "### Prediction  function\n",
    "\n",
    "def predict_sentiment(review):\n",
    "    preprocessed_input=preprocess_text(review)\n",
    "\n",
    "    prediction=model.predict(preprocessed_input)\n",
    "\n",
    "    sentiment = 'Positive' if prediction[0][0] > 0.5 else 'Negative'\n",
    "    \n",
    "    return sentiment, prediction[0][0]\n",
    "\n"
   ]
  },
  {
   "cell_type": "code",
   "execution_count": 7,
   "metadata": {},
   "outputs": [
    {
     "name": "stdout",
     "output_type": "stream",
     "text": [
      "\u001b[1m1/1\u001b[0m \u001b[32m━━━━━━━━━━━━━━━━━━━━\u001b[0m\u001b[37m\u001b[0m \u001b[1m2s\u001b[0m 2s/step\n",
      "Review: This movie was fantastic! The acting was great and the plot was thrilling.\n",
      "Sentiment: Positive\n",
      "Prediction Score: 0.9999997615814209\n"
     ]
    }
   ],
   "source": [
    "# Step 4: User Input and Prediction\n",
    "# Example review for prediction\n",
    "example_review = \"This movie was fantastic! The acting was great and the plot was thrilling.\"\n",
    "\n",
    "sentiment,score=predict_sentiment(example_review)\n",
    "\n",
    "print(f'Review: {example_review}')\n",
    "print(f'Sentiment: {sentiment}')\n",
    "print(f'Prediction Score: {score}')"
   ]
  }
 ],
 "metadata": {
  "kernelspec": {
   "display_name": "Python 3",
   "language": "python",
   "name": "python3"
  },
  "language_info": {
   "codemirror_mode": {
    "name": "ipython",
    "version": 3
   },
   "file_extension": ".py",
   "mimetype": "text/x-python",
   "name": "python",
   "nbconvert_exporter": "python",
   "pygments_lexer": "ipython3",
   "version": "3.12.0"
  }
 },
 "nbformat": 4,
 "nbformat_minor": 2
}
